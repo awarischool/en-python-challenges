{
  "nbformat": 4,
  "nbformat_minor": 0,
  "metadata": {
    "anaconda-cloud": {},
    "colab": {
      "name": "en-python-challenges",
      "provenance": [],
      "collapsed_sections": []
    },
    "kernelspec": {
      "display_name": "Python 3",
      "language": "python",
      "name": "python3"
    },
    "language_info": {
      "codemirror_mode": {
        "name": "ipython",
        "version": 3
      },
      "file_extension": ".py",
      "mimetype": "text/x-python",
      "name": "python",
      "nbconvert_exporter": "python",
      "pygments_lexer": "ipython3",
      "version": "3.7.6"
    }
  },
  "cells": [
    {
      "cell_type": "markdown",
      "metadata": {
        "colab_type": "text",
        "id": "view-in-github"
      },
      "source": [
        "<img src=\"https://i.imgur.com/JsMvGnP.pngwidth\" height=\"30\">  \n",
        "<p style=\"color: #2e6c80; text-align: center;\"><strong>\n",
        "Python Challenges\n"
      ]
    },
    {
      "cell_type": "markdown",
      "metadata": {
        "colab_type": "text",
        "id": "SbLLE9q1eldC"
      },
      "source": [
        "#### **Challenge 1**\n",
        "\n",
        "Write a Python program to count the number of occurrences of each word."
      ]
    },
    {
      "cell_type": "code",
      "metadata": {
        "colab_type": "code",
        "id": "WhtbdwFseldD",
        "colab": {}
      },
      "source": [
        "words = [\n",
        "   'red', 'green', 'black', 'pink', 'black', 'white', 'black', 'eyes',\n",
        "   'white', 'black', 'orange', 'pink', 'pink', 'red', 'red', 'white', 'orange',\n",
        "   'white', \"black\", 'pink', 'green', 'green', 'pink', 'green', 'pink',\n",
        "   'white', 'orange', \"orange\", 'red'\n",
        "]\n",
        "\n",
        "\n",
        "# Seu código"
      ],
      "execution_count": null,
      "outputs": []
    },
    {
      "cell_type": "markdown",
      "metadata": {
        "colab_type": "text",
        "id": "q1NCks7Af6JN"
      },
      "source": [
        "#### **Challenge 2**\n",
        "\n",
        "Write a function that takes an integer number of hours and converts it to seconds.\n",
        "\n",
        "Example:\n",
        "\n",
        "convert(5) ➞ 18000\n",
        "\n",
        "convert(3) ➞ 10800\n",
        "\n",
        "convert(2) ➞ 7200"
      ]
    },
    {
      "cell_type": "code",
      "metadata": {
        "id": "hO_S2uROIjMT",
        "colab_type": "code",
        "colab": {}
      },
      "source": [
        ""
      ],
      "execution_count": null,
      "outputs": []
    },
    {
      "cell_type": "markdown",
      "metadata": {
        "colab_type": "text",
        "id": "9apVxxygf6JR"
      },
      "source": [
        "#### **Challenge 3**\n",
        "\n",
        "Write a function that receives a list and returns a new ordered list with no duplicate values.\n"
      ]
    },
    {
      "cell_type": "code",
      "metadata": {
        "id": "VmSft2HqIi26",
        "colab_type": "code",
        "colab": {}
      },
      "source": [
        ""
      ],
      "execution_count": null,
      "outputs": []
    },
    {
      "cell_type": "markdown",
      "metadata": {
        "colab_type": "text",
        "id": "dOqcKUYZf6JW"
      },
      "source": [
        "#### **Challenge 4**\n",
        "\n",
        "Write a function that takes a string as a parameter and returns another string with the words in reverse order.\n",
        "\n",
        "Example:\n",
        "\n",
        "text_inversion(\"Python is cool\") ➞ \"cool is Python\""
      ]
    },
    {
      "cell_type": "code",
      "metadata": {
        "id": "CWiZQZH5Jl0A",
        "colab_type": "code",
        "colab": {}
      },
      "source": [
        ""
      ],
      "execution_count": null,
      "outputs": []
    },
    {
      "cell_type": "markdown",
      "metadata": {
        "colab_type": "text",
        "id": "gQbaWOWcW1g_"
      },
      "source": [
        "#### **Challenge 5**\n",
        "You work in a shoe store and must contact a list of customers given by the following list of phone numbers:"
      ]
    },
    {
      "cell_type": "code",
      "metadata": {
        "id": "eKJ87vvkS9QG",
        "colab_type": "code",
        "colab": {}
      },
      "source": [
        "telephone_numbers = [\n",
        "'(765) 368-1506',\n",
        "'(285) 608-2448',\n",
        "'(255) 826-9050',\n",
        "'(554) 994-1517',\n",
        "'(285) 608-2448',\n",
        "'(596) 336-5508',\n",
        "'(511) 821-7870',\n",
        "'(410) 665-4447',\n",
        "'(821) 642-8987',\n",
        "'(285) 608-2448',\n",
        "'(311) 799-3883',\n",
        "'(935) 875-2054',\n",
        "'(464) 788-2397',\n",
        "'(765) 368-1506',\n",
        "'(650) 684-1437',\n",
        "'(812) 816-0881',\n",
        "'(285) 608-2448',\n",
        "'(885) 407-1719',\n",
        "'(943) 769-1061',\n",
        "'(596) 336-5508',\n",
        "'(765) 368-1506',\n",
        "'(255) 826-9050',\n",
        "]"
      ],
      "execution_count": null,
      "outputs": []
    },
    {
      "cell_type": "markdown",
      "metadata": {
        "colab_type": "text",
        "id": "ryYrStScXgZ3"
      },
      "source": [
        "However, some of these numbers are duplicated. Would you be able to remove these duplicates to prevent customers from being contacted more than once?"
      ]
    },
    {
      "cell_type": "code",
      "metadata": {
        "id": "C6VV9mQFJk_A",
        "colab_type": "code",
        "colab": {}
      },
      "source": [
        ""
      ],
      "execution_count": null,
      "outputs": []
    },
    {
      "cell_type": "markdown",
      "metadata": {
        "colab_type": "text",
        "id": "AiI1_KNTf6Jh"
      },
      "source": [
        "#### **Challenge 6**\n",
        "\n",
        "\n",
        "Create a function that receives two lists and returns a list that contains only the common elements between the lists (without repetition). The function must support a list of different sizes.\n",
        "\n",
        "**Lists:**\n",
        "\n",
        "a = [1, 1, 2, 3, 5, 8, 13, 21, 34, 55, 89]\n",
        " \n",
        "b = [1, 2, 3, 4, 5, 6, 7, 8, 9, 10, 11, 12, 13]\n"
      ]
    },
    {
      "cell_type": "code",
      "metadata": {
        "id": "Z69B8cbQJkP1",
        "colab_type": "code",
        "colab": {}
      },
      "source": [
        ""
      ],
      "execution_count": null,
      "outputs": []
    },
    {
      "cell_type": "markdown",
      "metadata": {
        "colab_type": "text",
        "id": "BUXOBfeFS9QU"
      },
      "source": [
        "#### **Challenge 7**\n",
        "A university professor has a class with the following phone numbers:"
      ]
    },
    {
      "cell_type": "code",
      "metadata": {
        "id": "ubSPynjVS9QU",
        "colab_type": "code",
        "colab": {}
      },
      "source": [
        "students_phones = ['(873) 810-8267', '(633) 244-7325', '(300) 303-5462', \n",
        "                    '(938) 300-8890', '(429) 264-7427', '(737) 805-2326', \n",
        "                    '(768) 956-8497', '(941) 225-3869', '(203) 606-9463', \n",
        "                    '(294) 430-7720', '(896) 781-5087', '(397) 845-8267', \n",
        "                    '(788) 717-6858', '(419) 734-4188', '(682) 595-3278', \n",
        "                    '(835) 955-1498', '(296) 415-9944', '(897) 932-2512', \n",
        "                    '(263) 415-3893', '(822) 640-8496', '(640) 427-2597', \n",
        "                    '(856) 338-7094', '(807) 554-4076', '(641) 367-5279', \n",
        "                    '(828) 866-0696', '(727) 376-5749', '(921) 948-2244', \n",
        "                    '(964) 710-9625', '(596) 685-1242', '(403) 343-7705', \n",
        "                    '(227) 389-3685', '(264) 372-7298', '(797) 649-3653', \n",
        "                    '(374) 361-3844', '(618) 490-4228', '(987) 803-5550', \n",
        "                    '(228) 976-9699', '(757) 450-9985', '(491) 666-5367',\n",
        "                    ]"
      ],
      "execution_count": null,
      "outputs": []
    },
    {
      "cell_type": "markdown",
      "metadata": {
        "colab_type": "text",
        "id": "qdv3wiftS9QW"
      },
      "source": [
        "He created a whatsapp group. However only the following numbers entered:"
      ]
    },
    {
      "cell_type": "code",
      "metadata": {
        "id": "oeoGD6UcS9QW",
        "colab_type": "code",
        "colab": {}
      },
      "source": [
        "in_the_group = ['(596) 685-1242', '(727) 376-5749', '(987) 803-5550', \n",
        "                     '(633) 244-7325', '(828) 866-0696', '(263) 415-3893', \n",
        "                     '(203) 606-9463', '(296) 415-9944', '(419) 734-4188', \n",
        "                     '(618) 490-4228', '(682) 595-3278', '(938) 300-8890', \n",
        "                     '(264) 372-7298', '(768) 956-8497', '(737) 805-2326', \n",
        "                     '(788) 717-6858', '(228) 976-9699', '(896) 781-5087',\n",
        "                     '(374) 361-3844', '(921) 948-2244', '(807) 554-4076', \n",
        "                     '(822) 640-8496', '(227) 389-3685', '(429) 264-7427', \n",
        "                     '(397) 845-8267']"
      ],
      "execution_count": 1,
      "outputs": []
    },
    {
      "cell_type": "markdown",
      "metadata": {
        "colab_type": "text",
        "id": "-inLXlaxoWnC"
      },
      "source": [
        "Would you be able to create a list of students who have not yet joined the group to be contacted individually?"
      ]
    },
    {
      "cell_type": "code",
      "metadata": {
        "id": "2JbOxQMrJn7K",
        "colab_type": "code",
        "colab": {}
      },
      "source": [
        ""
      ],
      "execution_count": null,
      "outputs": []
    },
    {
      "cell_type": "markdown",
      "metadata": {
        "colab_type": "text",
        "id": "o3tkeMDNf6Jo"
      },
      "source": [
        "#### **Challenge 8**\n",
        "\n",
        "Write a Python script to find the 10 longest words in a file. Attentinon: The TXT file is located in the same folder as the project (text.txt) if you downloaded the GitHub repository.\n"
      ]
    },
    {
      "cell_type": "code",
      "metadata": {
        "id": "elt1QiXxKABG",
        "colab_type": "code",
        "colab": {}
      },
      "source": [
        "# If you are running this notebook in Colab, run this cell to download the TXT file. \n",
        "# After that, proceed as if the file was in the same folder as your Notebook\n",
        "!wget https://raw.githubusercontent.com/awarischool/en-python-challenges/master/texto.txt"
      ],
      "execution_count": null,
      "outputs": []
    },
    {
      "cell_type": "markdown",
      "metadata": {
        "colab_type": "text",
        "id": "HpvTpUBGf6Jr"
      },
      "source": [
        "#### **Challenge 9**\n",
        "\n",
        "\n",
        "Write a function that returns the sum of multiples of 3 and 5 between 0 and a limit number (parameter). For example, if the limit is 20, it will return the sum of 3, 5, 6, 9, 10, 12, 15, 18, 20.\n"
      ]
    },
    {
      "cell_type": "code",
      "metadata": {
        "id": "nFnBHN6EKqyq",
        "colab_type": "code",
        "colab": {}
      },
      "source": [
        ""
      ],
      "execution_count": null,
      "outputs": []
    },
    {
      "cell_type": "markdown",
      "metadata": {
        "colab_type": "text",
        "id": "a4-FLDRof6Jv"
      },
      "source": [
        "#### **Challenge 10**\n",
        "\n",
        "\n",
        "Given a list, divide it into 3 equal parts and reverse each list.\n",
        "\n",
        "Example: \n",
        "\n",
        "sampleList = [11, 45, 8, 23, 14, 12, 78, 45, 89]\n",
        "\n",
        "Part 1 [8, 45, 11]\n",
        "\n",
        "Part 2 [12, 14, 23]\n",
        "\n",
        "Part 3 [89, 45, 78]"
      ]
    },
    {
      "cell_type": "code",
      "metadata": {
        "id": "mPWw1n9VK29z",
        "colab_type": "code",
        "colab": {}
      },
      "source": [
        ""
      ],
      "execution_count": null,
      "outputs": []
    },
    {
      "cell_type": "markdown",
      "metadata": {
        "colab_type": "text",
        "id": "y1R0m4oWf6Jz"
      },
      "source": [
        "#### **Challenge 11**\n",
        "\n",
        "Given a sequence with `n` integers, determine how many numbers in the sequence are even and how many are odd. For example, for the sequence\n",
        "\n",
        "6   2   7  -5   8  -4\n",
        "\n",
        "the function should return the number 4 for the even number and 2 for the odd number. The output must be a tuple containing first the number of pairs and then the number of odd numbers. For the previous example, the output would be (4, 2)."
      ]
    },
    {
      "cell_type": "code",
      "metadata": {
        "id": "0_FQ9j_mK4cb",
        "colab_type": "code",
        "colab": {}
      },
      "source": [
        ""
      ],
      "execution_count": null,
      "outputs": []
    },
    {
      "cell_type": "markdown",
      "metadata": {
        "colab_type": "text",
        "id": "AYHY2YXQf6J2"
      },
      "source": [
        "#### **Challenge 12**\n",
        "\n",
        "Write a function in Python to check the validity of a password.\n",
        "\n",
        "Validation:\n",
        "\n",
        "* At least 1 letter between [a-z] and 1 letter between [A-Z].\n",
        "* At least 1 number between [0-9].\n",
        "* At least 1 character in [$ # @].\n",
        "* Minimum length of 6 characters.\n",
        "* Maximum length of 16 characters.\n",
        "\n",
        "Entries: \"12345678\", \"J3sus0\", \"# Te5t300\", \"J * 90j12374\", \"Michheeul\", \"Monk3y6\"\n",
        "\n",
        "The output must be the password and a text indicating whether the password is valid or invalid:\n",
        "\n",
        "```\n",
        "\"1234\" - Invalid password\n",
        "\"Qw#1234\" - Valid password\n",
        "```"
      ]
    },
    {
      "cell_type": "code",
      "metadata": {
        "id": "T4rAVQ4HLUh9",
        "colab_type": "code",
        "colab": {}
      },
      "source": [
        ""
      ],
      "execution_count": null,
      "outputs": []
    }
  ]
}